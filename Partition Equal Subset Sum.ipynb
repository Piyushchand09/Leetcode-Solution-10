{
 "cells": [
  {
   "cell_type": "code",
   "execution_count": null,
   "id": "6edca8b4",
   "metadata": {},
   "outputs": [],
   "source": [
    "# Partition Equal Subset Sum\n",
    "class Solution:\n",
    "    def canPartition(self, nums: List[int]) -> bool:\n",
    "        if sum(nums) % 2:\n",
    "             return False\n",
    "        dp = set()\n",
    "        dp.add(0)\n",
    "        target = sum(nums)//2\n",
    "\n",
    "        for i in range(len(nums) -1,-1,-1):\n",
    "            nextDp =set()\n",
    "            for t in dp:\n",
    "                if (t+ nums[i]) == target:\n",
    "                    return True\n",
    "                nextDp.add(t + nums[i])\n",
    "                nextDp.add(t)\n",
    "            dp = nextDp\n",
    "        return True if target in dp else False"
   ]
  }
 ],
 "metadata": {
  "kernelspec": {
   "display_name": "Python 3 (ipykernel)",
   "language": "python",
   "name": "python3"
  },
  "language_info": {
   "codemirror_mode": {
    "name": "ipython",
    "version": 3
   },
   "file_extension": ".py",
   "mimetype": "text/x-python",
   "name": "python",
   "nbconvert_exporter": "python",
   "pygments_lexer": "ipython3",
   "version": "3.12.4"
  }
 },
 "nbformat": 4,
 "nbformat_minor": 5
}
